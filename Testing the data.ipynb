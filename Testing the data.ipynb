{
 "cells": [
  {
   "cell_type": "code",
   "execution_count": 1,
   "metadata": {
    "collapsed": true
   },
   "outputs": [],
   "source": [
    "import pandas as pd"
   ]
  },
  {
   "cell_type": "code",
   "execution_count": 2,
   "metadata": {
    "collapsed": true
   },
   "outputs": [],
   "source": [
    "trips_data_02_df = pd.read_csv('data/201402_trip_data.csv')"
   ]
  },
  {
   "cell_type": "code",
   "execution_count": 3,
   "metadata": {
    "collapsed": false
   },
   "outputs": [
    {
     "data": {
      "text/plain": [
       "(144015, 11)"
      ]
     },
     "execution_count": 3,
     "metadata": {},
     "output_type": "execute_result"
    }
   ],
   "source": [
    "trips_data_02_df.shape"
   ]
  },
  {
   "cell_type": "code",
   "execution_count": 4,
   "metadata": {
    "collapsed": true
   },
   "outputs": [],
   "source": [
    "trips_data_08_df = pd.read_csv('data/201408_trip_data.csv')"
   ]
  },
  {
   "cell_type": "code",
   "execution_count": 5,
   "metadata": {
    "collapsed": false
   },
   "outputs": [
    {
     "data": {
      "text/plain": [
       "(171792, 11)"
      ]
     },
     "execution_count": 5,
     "metadata": {},
     "output_type": "execute_result"
    }
   ],
   "source": [
    "trips_data_08_df.shape"
   ]
  },
  {
   "cell_type": "code",
   "execution_count": 6,
   "metadata": {
    "collapsed": true
   },
   "outputs": [],
   "source": [
    "trips_data_df = trips_data_02_df.append(trips_data_08_df)"
   ]
  },
  {
   "cell_type": "code",
   "execution_count": 7,
   "metadata": {
    "collapsed": false
   },
   "outputs": [
    {
     "data": {
      "text/plain": [
       "(315807, 12)"
      ]
     },
     "execution_count": 7,
     "metadata": {},
     "output_type": "execute_result"
    }
   ],
   "source": [
    "trips_data_df.shape"
   ]
  },
  {
   "cell_type": "code",
   "execution_count": 20,
   "metadata": {
    "collapsed": false
   },
   "outputs": [
    {
     "data": {
      "text/html": [
       "<div>\n",
       "<table border=\"1\" class=\"dataframe\">\n",
       "  <thead>\n",
       "    <tr style=\"text-align: right;\">\n",
       "      <th></th>\n",
       "      <th>Bike #</th>\n",
       "      <th>Duration</th>\n",
       "      <th>End Date</th>\n",
       "      <th>End Station</th>\n",
       "      <th>End Terminal</th>\n",
       "      <th>Start Date</th>\n",
       "      <th>Start Station</th>\n",
       "      <th>Start Terminal</th>\n",
       "      <th>Subscriber Type</th>\n",
       "      <th>Subscription Type</th>\n",
       "      <th>Trip ID</th>\n",
       "      <th>Zip Code</th>\n",
       "    </tr>\n",
       "  </thead>\n",
       "  <tbody>\n",
       "    <tr>\n",
       "      <th>0</th>\n",
       "      <td>520</td>\n",
       "      <td>63</td>\n",
       "      <td>8/29/2013 14:14</td>\n",
       "      <td>South Van Ness at Market</td>\n",
       "      <td>66</td>\n",
       "      <td>8/29/2013 14:13</td>\n",
       "      <td>South Van Ness at Market</td>\n",
       "      <td>66</td>\n",
       "      <td>NaN</td>\n",
       "      <td>Subscriber</td>\n",
       "      <td>4576</td>\n",
       "      <td>94127</td>\n",
       "    </tr>\n",
       "    <tr>\n",
       "      <th>1</th>\n",
       "      <td>661</td>\n",
       "      <td>70</td>\n",
       "      <td>8/29/2013 14:43</td>\n",
       "      <td>San Jose City Hall</td>\n",
       "      <td>10</td>\n",
       "      <td>8/29/2013 14:42</td>\n",
       "      <td>San Jose City Hall</td>\n",
       "      <td>10</td>\n",
       "      <td>NaN</td>\n",
       "      <td>Subscriber</td>\n",
       "      <td>4607</td>\n",
       "      <td>95138</td>\n",
       "    </tr>\n",
       "    <tr>\n",
       "      <th>2</th>\n",
       "      <td>48</td>\n",
       "      <td>71</td>\n",
       "      <td>8/29/2013 10:17</td>\n",
       "      <td>Mountain View City Hall</td>\n",
       "      <td>27</td>\n",
       "      <td>8/29/2013 10:16</td>\n",
       "      <td>Mountain View City Hall</td>\n",
       "      <td>27</td>\n",
       "      <td>NaN</td>\n",
       "      <td>Subscriber</td>\n",
       "      <td>4130</td>\n",
       "      <td>97214</td>\n",
       "    </tr>\n",
       "    <tr>\n",
       "      <th>3</th>\n",
       "      <td>26</td>\n",
       "      <td>77</td>\n",
       "      <td>8/29/2013 11:30</td>\n",
       "      <td>San Jose City Hall</td>\n",
       "      <td>10</td>\n",
       "      <td>8/29/2013 11:29</td>\n",
       "      <td>San Jose City Hall</td>\n",
       "      <td>10</td>\n",
       "      <td>NaN</td>\n",
       "      <td>Subscriber</td>\n",
       "      <td>4251</td>\n",
       "      <td>95060</td>\n",
       "    </tr>\n",
       "    <tr>\n",
       "      <th>4</th>\n",
       "      <td>319</td>\n",
       "      <td>83</td>\n",
       "      <td>8/29/2013 12:04</td>\n",
       "      <td>Market at 10th</td>\n",
       "      <td>67</td>\n",
       "      <td>8/29/2013 12:02</td>\n",
       "      <td>South Van Ness at Market</td>\n",
       "      <td>66</td>\n",
       "      <td>NaN</td>\n",
       "      <td>Subscriber</td>\n",
       "      <td>4299</td>\n",
       "      <td>94103</td>\n",
       "    </tr>\n",
       "  </tbody>\n",
       "</table>\n",
       "</div>"
      ],
      "text/plain": [
       "   Bike #  Duration         End Date               End Station  End Terminal  \\\n",
       "0     520        63  8/29/2013 14:14  South Van Ness at Market            66   \n",
       "1     661        70  8/29/2013 14:43        San Jose City Hall            10   \n",
       "2      48        71  8/29/2013 10:17   Mountain View City Hall            27   \n",
       "3      26        77  8/29/2013 11:30        San Jose City Hall            10   \n",
       "4     319        83  8/29/2013 12:04            Market at 10th            67   \n",
       "\n",
       "        Start Date             Start Station  Start Terminal Subscriber Type  \\\n",
       "0  8/29/2013 14:13  South Van Ness at Market              66             NaN   \n",
       "1  8/29/2013 14:42        San Jose City Hall              10             NaN   \n",
       "2  8/29/2013 10:16   Mountain View City Hall              27             NaN   \n",
       "3  8/29/2013 11:29        San Jose City Hall              10             NaN   \n",
       "4  8/29/2013 12:02  South Van Ness at Market              66             NaN   \n",
       "\n",
       "  Subscription Type  Trip ID Zip Code  \n",
       "0        Subscriber     4576    94127  \n",
       "1        Subscriber     4607    95138  \n",
       "2        Subscriber     4130    97214  \n",
       "3        Subscriber     4251    95060  \n",
       "4        Subscriber     4299    94103  "
      ]
     },
     "execution_count": 20,
     "metadata": {},
     "output_type": "execute_result"
    }
   ],
   "source": [
    "trips_data_df.head()"
   ]
  },
  {
   "cell_type": "code",
   "execution_count": 14,
   "metadata": {
    "collapsed": false
   },
   "outputs": [],
   "source": [
    "end_station_count = trips_data_df['End Station'].value_counts()"
   ]
  },
  {
   "cell_type": "code",
   "execution_count": 15,
   "metadata": {
    "collapsed": false
   },
   "outputs": [],
   "source": [
    "start_station_count = trips_data_df['Start Station'].value_counts()"
   ]
  },
  {
   "cell_type": "code",
   "execution_count": 16,
   "metadata": {
    "collapsed": false
   },
   "outputs": [],
   "source": [
    "total_count = {}"
   ]
  },
  {
   "cell_type": "code",
   "execution_count": 17,
   "metadata": {
    "collapsed": false
   },
   "outputs": [],
   "source": [
    "for entry in end_station_count.iteritems():\n",
    "    if entry[0] in total_count.keys():\n",
    "        val_count = total_count[entry[0]]\n",
    "        new_val_count = val_count + entry[1]\n",
    "        total_count[entry[0]] = new_val_count\n",
    "    else:\n",
    "        total_count[entry[0]] = entry[1]"
   ]
  },
  {
   "cell_type": "code",
   "execution_count": 18,
   "metadata": {
    "collapsed": true
   },
   "outputs": [],
   "source": [
    "for entry in start_station_count.iteritems():\n",
    "    if entry[0] in total_count.keys():\n",
    "        val_count = total_count[entry[0]]\n",
    "        new_val_count = val_count + entry[1]\n",
    "        total_count[entry[0]] = new_val_count\n",
    "    else:\n",
    "        total_count[entry[0]] = entry[1]"
   ]
  },
  {
   "cell_type": "code",
   "execution_count": 19,
   "metadata": {
    "collapsed": false
   },
   "outputs": [
    {
     "data": {
      "text/plain": [
       "{'2nd at Folsom': 12868,\n",
       " '2nd at South Park': 17617,\n",
       " '2nd at Townsend': 24877,\n",
       " '5th at Howard': 12520,\n",
       " 'Adobe on Almaden': 1374,\n",
       " 'Arena Green / SAP Center': 1596,\n",
       " 'Beale at Market': 13193,\n",
       " 'Broadway St at Battery St': 4833,\n",
       " 'Broadway at Main': 148,\n",
       " 'California Ave Caltrain Station': 1268,\n",
       " 'Castro Street and El Camino Real': 1504,\n",
       " 'Civic Center BART (7th at Market)': 12967,\n",
       " 'Clay at Battery': 9822,\n",
       " 'Commercial at Montgomery': 11352,\n",
       " 'Cowper at University': 1432,\n",
       " 'Davis at Jackson': 10150,\n",
       " 'Embarcadero at Bryant': 13785,\n",
       " 'Embarcadero at Folsom': 12761,\n",
       " 'Embarcadero at Sansome': 29286,\n",
       " 'Embarcadero at Vallejo': 11722,\n",
       " 'Evelyn Park and Ride': 1334,\n",
       " 'Franklin at Maple': 297,\n",
       " 'Golden Gate at Polk': 6830,\n",
       " 'Grant Avenue at Columbus Avenue': 12858,\n",
       " 'Harry Bridges Plaza (Ferry Building)': 31062,\n",
       " 'Howard at 2nd': 13237,\n",
       " 'Japantown': 2249,\n",
       " 'MLK Library': 2483,\n",
       " 'Market at 10th': 16031,\n",
       " 'Market at 4th': 20501,\n",
       " 'Market at Sansome': 26858,\n",
       " 'Mechanics Plaza (Market at Battery)': 11858,\n",
       " 'Mezes Park': 269,\n",
       " 'Mountain View Caltrain Station': 5855,\n",
       " 'Mountain View City Hall': 2961,\n",
       " 'Palo Alto Caltrain Station': 1914,\n",
       " 'Park at Olive': 758,\n",
       " 'Paseo de San Antonio': 2802,\n",
       " 'Post at Kearney': 4813,\n",
       " 'Post at Kearny': 4411,\n",
       " 'Powell Street BART': 18342,\n",
       " 'Powell at Post (Union Square)': 10543,\n",
       " 'Redwood City Caltrain Station': 1115,\n",
       " 'Redwood City Medical Center': 383,\n",
       " 'Redwood City Public Library': 274,\n",
       " 'Rengstorff Avenue / California Street': 1278,\n",
       " 'Ryland Park': 1188,\n",
       " 'SJSU - San Salvador at 9th': 2007,\n",
       " 'SJSU 4th at San Carlos': 1485,\n",
       " 'San Antonio Caltrain Station': 1960,\n",
       " 'San Antonio Shopping Center': 1482,\n",
       " 'San Francisco Caltrain (Townsend at 4th)': 51157,\n",
       " 'San Francisco Caltrain 2 (330 Townsend)': 24578,\n",
       " 'San Francisco City Hall': 4256,\n",
       " 'San Jose City Hall': 2548,\n",
       " 'San Jose Civic Center': 1697,\n",
       " 'San Jose Diridon Caltrain Station': 8960,\n",
       " 'San Jose Government Center': 46,\n",
       " 'San Mateo County Center': 323,\n",
       " 'San Pedro Square': 3067,\n",
       " 'San Salvador at 1st': 2357,\n",
       " 'Santa Clara County Civic Center': 653,\n",
       " 'Santa Clara at Almaden': 3730,\n",
       " 'South Van Ness at Market': 13278,\n",
       " 'Spear at Folsom': 12896,\n",
       " 'St James Park': 1600,\n",
       " 'Steuart at Market': 22559,\n",
       " 'Temporary Transbay Terminal (Howard at Beale)': 21767,\n",
       " 'Townsend at 7th': 21187,\n",
       " 'University and Emerson': 2006,\n",
       " 'Washington at Kearney': 3244,\n",
       " 'Washington at Kearny': 3612,\n",
       " 'Yerba Buena Center of the Arts (3rd @ Howard)': 11580}"
      ]
     },
     "execution_count": 19,
     "metadata": {},
     "output_type": "execute_result"
    }
   ],
   "source": [
    "total_count"
   ]
  },
  {
   "cell_type": "code",
   "execution_count": 21,
   "metadata": {
    "collapsed": false
   },
   "outputs": [
    {
     "data": {
      "text/plain": [
       "count    315807.000000\n",
       "mean       1177.384960\n",
       "std        6350.087274\n",
       "min          60.000000\n",
       "25%         347.000000\n",
       "50%         523.000000\n",
       "75%         777.000000\n",
       "max      722236.000000\n",
       "Name: Duration, dtype: float64"
      ]
     },
     "execution_count": 21,
     "metadata": {},
     "output_type": "execute_result"
    }
   ],
   "source": [
    "trips_data_df.Duration.describe()"
   ]
  },
  {
   "cell_type": "code",
   "execution_count": null,
   "metadata": {
    "collapsed": true
   },
   "outputs": [],
   "source": []
  }
 ],
 "metadata": {
  "kernelspec": {
   "display_name": "Python 2",
   "language": "python",
   "name": "python2"
  },
  "language_info": {
   "codemirror_mode": {
    "name": "ipython",
    "version": 2
   },
   "file_extension": ".py",
   "mimetype": "text/x-python",
   "name": "python",
   "nbconvert_exporter": "python",
   "pygments_lexer": "ipython2",
   "version": "2.7.11"
  }
 },
 "nbformat": 4,
 "nbformat_minor": 0
}
